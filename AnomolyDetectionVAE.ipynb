{
  "nbformat": 4,
  "nbformat_minor": 0,
  "metadata": {
    "colab": {
      "provenance": [],
      "authorship_tag": "ABX9TyOvv2mNHjr6f/LJEFZiQdTO",
      "include_colab_link": true
    },
    "kernelspec": {
      "name": "python3",
      "display_name": "Python 3"
    },
    "language_info": {
      "name": "python"
    }
  },
  "cells": [
    {
      "cell_type": "markdown",
      "metadata": {
        "id": "view-in-github",
        "colab_type": "text"
      },
      "source": [
        "<a href=\"https://colab.research.google.com/github/whitehatjr1001/Deeplearning/blob/main/AnomolyDetectionVAE.ipynb\" target=\"_parent\"><img src=\"https://colab.research.google.com/assets/colab-badge.svg\" alt=\"Open In Colab\"/></a>"
      ]
    },
    {
      "cell_type": "code",
      "execution_count": 2,
      "metadata": {
        "id": "kauGwX_uctqN"
      },
      "outputs": [],
      "source": [
        "from datetime import datetime\n",
        "import matplotlib.pyplot as plt\n",
        "import numpy as np\n",
        "import pandas as pd\n",
        "\n",
        "\n",
        "import tensorflow as tf\n",
        "tf.compat.v1.disable_eager_execution()\n",
        "from tensorflow.keras.models import Model, load_model\n",
        "from tensorflow.keras.layers import Lambda, Input, Dense\n",
        "from tensorflow.keras.losses import mse, binary_crossentropy, kl_divergence\n",
        "from tensorflow.keras import optimizers\n",
        "from tensorflow.keras import backend as K\n",
        "\n",
        "from sklearn.model_selection import train_test_split\n",
        "from sklearn.preprocessing import MinMaxScaler, StandardScaler, PowerTransformer\n",
        "\n",
        "import seaborn as sns\n",
        "import matplotlib.pyplot as plt\n",
        "\n",
        "%matplotlib inline"
      ]
    },
    {
      "cell_type": "code",
      "source": [
        "urls = [\n",
        "        \"http://kdd.ics.uci.edu/databases/kddcup99/kddcup.data_10_percent.gz\",\n",
        "        \"http://kdd.ics.uci.edu/databases/kddcup99/kddcup.names\"\n",
        "        ]"
      ],
      "metadata": {
        "id": "Ph3EV5MJe1sj"
      },
      "execution_count": 3,
      "outputs": []
    },
    {
      "cell_type": "code",
      "source": [
        "# this pre-processing code of the KDD dataset is adapter from https://github.com/lironber/GOAD/blob/master/data_loader.py\n",
        "\n",
        "df_colnames = pd.read_csv(urls[1], skiprows=1, sep=':', names=['f_names', 'f_types'])\n",
        "df_colnames.loc[df_colnames.shape[0]] = ['status', ' symbolic.']\n",
        "\n",
        "df = pd.read_csv(urls[0], header=None, names=df_colnames['f_names'].values)\n",
        "df_symbolic = df_colnames[df_colnames['f_types'].str.contains('symbolic.')]\n",
        "df_continuous = df_colnames[df_colnames['f_types'].str.contains('continuous.')]\n",
        "samples = pd.get_dummies(df.iloc[:, :-1], columns=df_symbolic['f_names'][:-1])\n",
        "\n",
        "labels = np.where(df['status'] == 'normal.', 1, 0)"
      ],
      "metadata": {
        "id": "HJBoR-HOe3-b"
      },
      "execution_count": 4,
      "outputs": []
    },
    {
      "cell_type": "code",
      "source": [
        "scalar = MinMaxScaler()\n",
        "df = scalar.fit_transform(samples)"
      ],
      "metadata": {
        "id": "zG8v2v_VfMo4"
      },
      "execution_count": 5,
      "outputs": []
    },
    {
      "cell_type": "code",
      "source": [
        "normsamp = df[labels==1 ]\n",
        "attksamp = df[labels==0 ]\n",
        "norm"
      ],
      "metadata": {
        "colab": {
          "base_uri": "https://localhost:8080/"
        },
        "id": "cOTKV4F_ff7g",
        "outputId": "f7c4a831-df24-4cfc-8181-4d6d625b0e77"
      },
      "execution_count": 6,
      "outputs": [
        {
          "output_type": "execute_result",
          "data": {
            "text/plain": [
              "array([[0.00000000e+00, 2.61041764e-07, 1.05713002e-03, ...,\n",
              "        0.00000000e+00, 1.00000000e+00, 0.00000000e+00],\n",
              "       [0.00000000e+00, 3.44690506e-07, 9.42688423e-05, ...,\n",
              "        0.00000000e+00, 1.00000000e+00, 0.00000000e+00],\n",
              "       [0.00000000e+00, 3.38921627e-07, 2.59336301e-04, ...,\n",
              "        0.00000000e+00, 1.00000000e+00, 0.00000000e+00],\n",
              "       ...,\n",
              "       [0.00000000e+00, 2.92770597e-07, 2.32762574e-04, ...,\n",
              "        0.00000000e+00, 1.00000000e+00, 0.00000000e+00],\n",
              "       [0.00000000e+00, 4.19685930e-07, 2.32762574e-04, ...,\n",
              "        0.00000000e+00, 1.00000000e+00, 0.00000000e+00],\n",
              "       [0.00000000e+00, 3.15846112e-07, 2.39357513e-04, ...,\n",
              "        0.00000000e+00, 1.00000000e+00, 0.00000000e+00]])"
            ]
          },
          "metadata": {},
          "execution_count": 6
        }
      ]
    }
  ]
}